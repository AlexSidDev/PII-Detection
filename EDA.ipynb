{
 "cells": [
  {
   "cell_type": "code",
   "execution_count": 1,
   "id": "b64c960a-1f5f-4495-af4b-71570db68942",
   "metadata": {},
   "outputs": [
    {
     "name": "stderr",
     "output_type": "stream",
     "text": [
      "C:\\Users\\Саня\\AppData\\Local\\Temp\\ipykernel_10632\\3502007509.py:1: DeprecationWarning: \n",
      "Pyarrow will become a required dependency of pandas in the next major release of pandas (pandas 3.0),\n",
      "(to allow more performant data types, such as the Arrow string type, and better interoperability with other libraries)\n",
      "but was not found to be installed on your system.\n",
      "If this would cause problems for you,\n",
      "please provide us feedback at https://github.com/pandas-dev/pandas/issues/54466\n",
      "        \n",
      "  import pandas as pd\n"
     ]
    }
   ],
   "source": [
    "import pandas as pd\n",
    "import numpy as np\n",
    "import matplotlib.pyplot as plt\n",
    "import warnings\n",
    "\n",
    "warnings.filterwarnings('ignore')"
   ]
  },
  {
   "cell_type": "markdown",
   "id": "f879a030-936f-40fa-a29f-8700cadafa15",
   "metadata": {},
   "source": [
    "## Loading and basic information"
   ]
  },
  {
   "cell_type": "code",
   "execution_count": 2,
   "id": "cc1049bd-ab4c-495f-a146-d6c6fd265f7e",
   "metadata": {},
   "outputs": [
    {
     "data": {
      "text/html": [
       "<div>\n",
       "<style scoped>\n",
       "    .dataframe tbody tr th:only-of-type {\n",
       "        vertical-align: middle;\n",
       "    }\n",
       "\n",
       "    .dataframe tbody tr th {\n",
       "        vertical-align: top;\n",
       "    }\n",
       "\n",
       "    .dataframe thead th {\n",
       "        text-align: right;\n",
       "    }\n",
       "</style>\n",
       "<table border=\"1\" class=\"dataframe\">\n",
       "  <thead>\n",
       "    <tr style=\"text-align: right;\">\n",
       "      <th></th>\n",
       "      <th>document</th>\n",
       "      <th>full_text</th>\n",
       "      <th>tokens</th>\n",
       "      <th>trailing_whitespace</th>\n",
       "      <th>labels</th>\n",
       "    </tr>\n",
       "  </thead>\n",
       "  <tbody>\n",
       "    <tr>\n",
       "      <th>0</th>\n",
       "      <td>7</td>\n",
       "      <td>Design Thinking for innovation reflexion-Avril...</td>\n",
       "      <td>[Design, Thinking, for, innovation, reflexion,...</td>\n",
       "      <td>[True, True, True, True, False, False, True, F...</td>\n",
       "      <td>[O, O, O, O, O, O, O, O, O, B-NAME_STUDENT, I-...</td>\n",
       "    </tr>\n",
       "    <tr>\n",
       "      <th>1</th>\n",
       "      <td>10</td>\n",
       "      <td>Diego Estrada\\n\\nDesign Thinking Assignment\\n\\...</td>\n",
       "      <td>[Diego, Estrada, \\n\\n, Design, Thinking, Assig...</td>\n",
       "      <td>[True, False, False, True, True, False, False,...</td>\n",
       "      <td>[B-NAME_STUDENT, I-NAME_STUDENT, O, O, O, O, O...</td>\n",
       "    </tr>\n",
       "    <tr>\n",
       "      <th>2</th>\n",
       "      <td>16</td>\n",
       "      <td>Reporting process\\n\\nby Gilberto Gamboa\\n\\nCha...</td>\n",
       "      <td>[Reporting, process, \\n\\n, by, Gilberto, Gambo...</td>\n",
       "      <td>[True, False, False, True, True, False, False,...</td>\n",
       "      <td>[O, O, O, O, B-NAME_STUDENT, I-NAME_STUDENT, O...</td>\n",
       "    </tr>\n",
       "    <tr>\n",
       "      <th>3</th>\n",
       "      <td>20</td>\n",
       "      <td>Design Thinking for Innovation\\n\\nSindy Samaca...</td>\n",
       "      <td>[Design, Thinking, for, Innovation, \\n\\n, Sind...</td>\n",
       "      <td>[True, True, True, False, False, True, False, ...</td>\n",
       "      <td>[O, O, O, O, O, B-NAME_STUDENT, I-NAME_STUDENT...</td>\n",
       "    </tr>\n",
       "    <tr>\n",
       "      <th>4</th>\n",
       "      <td>56</td>\n",
       "      <td>Assignment:  Visualization Reflection  Submitt...</td>\n",
       "      <td>[Assignment, :,   , Visualization,  , Reflecti...</td>\n",
       "      <td>[False, False, False, False, False, False, Fal...</td>\n",
       "      <td>[O, O, O, O, O, O, O, O, O, O, O, O, B-NAME_ST...</td>\n",
       "    </tr>\n",
       "  </tbody>\n",
       "</table>\n",
       "</div>"
      ],
      "text/plain": [
       "   document                                          full_text  \\\n",
       "0         7  Design Thinking for innovation reflexion-Avril...   \n",
       "1        10  Diego Estrada\\n\\nDesign Thinking Assignment\\n\\...   \n",
       "2        16  Reporting process\\n\\nby Gilberto Gamboa\\n\\nCha...   \n",
       "3        20  Design Thinking for Innovation\\n\\nSindy Samaca...   \n",
       "4        56  Assignment:  Visualization Reflection  Submitt...   \n",
       "\n",
       "                                              tokens  \\\n",
       "0  [Design, Thinking, for, innovation, reflexion,...   \n",
       "1  [Diego, Estrada, \\n\\n, Design, Thinking, Assig...   \n",
       "2  [Reporting, process, \\n\\n, by, Gilberto, Gambo...   \n",
       "3  [Design, Thinking, for, Innovation, \\n\\n, Sind...   \n",
       "4  [Assignment, :,   , Visualization,  , Reflecti...   \n",
       "\n",
       "                                 trailing_whitespace  \\\n",
       "0  [True, True, True, True, False, False, True, F...   \n",
       "1  [True, False, False, True, True, False, False,...   \n",
       "2  [True, False, False, True, True, False, False,...   \n",
       "3  [True, True, True, False, False, True, False, ...   \n",
       "4  [False, False, False, False, False, False, Fal...   \n",
       "\n",
       "                                              labels  \n",
       "0  [O, O, O, O, O, O, O, O, O, B-NAME_STUDENT, I-...  \n",
       "1  [B-NAME_STUDENT, I-NAME_STUDENT, O, O, O, O, O...  \n",
       "2  [O, O, O, O, B-NAME_STUDENT, I-NAME_STUDENT, O...  \n",
       "3  [O, O, O, O, O, B-NAME_STUDENT, I-NAME_STUDENT...  \n",
       "4  [O, O, O, O, O, O, O, O, O, O, O, O, B-NAME_ST...  "
      ]
     },
     "execution_count": 2,
     "metadata": {},
     "output_type": "execute_result"
    }
   ],
   "source": [
    "train_data = pd.read_json('dataset/train.json', orient='records')\n",
    "test_data = pd.read_json('dataset/test.json', orient='records')\n",
    "train_data.head()"
   ]
  },
  {
   "cell_type": "code",
   "execution_count": 3,
   "id": "82566ccb-e0d7-46c5-ae00-43b28883fceb",
   "metadata": {},
   "outputs": [
    {
     "name": "stdout",
     "output_type": "stream",
     "text": [
      "Train data: Number of rows: 6807, number of columns: 5\n",
      "Test data: Number of rows: 10, number of columns: 4\n"
     ]
    }
   ],
   "source": [
    "template = 'Number of rows: {}, number of columns: {}'\n",
    "print('Train data:', template.format(len(train_data.index), len(train_data.columns)))\n",
    "print('Test data:', template.format(len(test_data.index), len(test_data.columns)))"
   ]
  },
  {
   "cell_type": "markdown",
   "id": "8b8c055c-32d9-4b91-9809-6be3e8d82c15",
   "metadata": {},
   "source": [
    "## Quantity analisys"
   ]
  },
  {
   "cell_type": "code",
   "execution_count": 4,
   "id": "13efe240-91a4-45fd-9664-8b87a86b7544",
   "metadata": {},
   "outputs": [],
   "source": [
    "class_labels = ['NAME_STUDENT', 'EMAIL', 'USERNAME', 'ID_NUM', 'PHONE_NUM', 'URL_PERSONAL', 'STREET_ADDRESS', 'Background']"
   ]
  },
  {
   "cell_type": "code",
   "execution_count": 5,
   "id": "7b25924a-88d8-4460-858d-6247fd7d2f9f",
   "metadata": {},
   "outputs": [],
   "source": [
    "def find_labels(labels: list):\n",
    "    labels_count = [0] * len(class_labels)\n",
    "    for token in labels:\n",
    "        if token.startswith('B-') or token.startswith('I-'):\n",
    "            class_name = token[2:]\n",
    "            class_index = class_labels.index(class_name)\n",
    "            labels_count[class_index] += 1\n",
    "        elif token == 'O':\n",
    "            labels_count[-1] += 1\n",
    "    return labels_count"
   ]
  },
  {
   "cell_type": "code",
   "execution_count": 6,
   "id": "a30b1638-a5d5-402d-87af-fcaa90906768",
   "metadata": {},
   "outputs": [
    {
     "data": {
      "text/plain": [
       "NAME_STUDENT         2461\n",
       "EMAIL                  39\n",
       "USERNAME                6\n",
       "ID_NUM                 79\n",
       "PHONE_NUM              21\n",
       "URL_PERSONAL          111\n",
       "STREET_ADDRESS         22\n",
       "Background        4989794\n",
       "dtype: int64"
      ]
     },
     "execution_count": 6,
     "metadata": {},
     "output_type": "execute_result"
    }
   ],
   "source": [
    "class_counts = train_data['labels'].map(find_labels)\n",
    "class_counts = pd.DataFrame(np.array(class_counts.to_list()), columns=class_labels)\n",
    "class_counts = class_counts.sum()\n",
    "class_counts"
   ]
  },
  {
   "cell_type": "markdown",
   "id": "0acfa19e-c865-48c9-afb2-8bdc25708742",
   "metadata": {},
   "source": [
    "### As we can see, we have a huge class disbalance (most tokens are non-labeled)"
   ]
  },
  {
   "cell_type": "markdown",
   "id": "2b5080fc-0d1f-45cc-8069-ea5f3b763e81",
   "metadata": {},
   "source": [
    "### Let's look at distribution of labeled tokens"
   ]
  },
  {
   "cell_type": "code",
   "execution_count": 7,
   "id": "ad9be0c7-3dd6-4f49-aff7-862928d1b51a",
   "metadata": {},
   "outputs": [
    {
     "data": {
      "image/png": "[encoded data removed]",
      "text/plain": [
       "<Figure size 1500x500 with 1 Axes>"
      ]
     },
     "metadata": {},
     "output_type": "display_data"
    }
   ],
   "source": [
    "plt.figure(figsize=(15, 5))\n",
    "plt.hist(class_labels[:-1], weights=class_counts[:-1])\n",
    "None"
   ]
  },
  {
   "cell_type": "markdown",
   "id": "9989c46d-8948-484c-b51e-7d97ced2b82a",
   "metadata": {},
   "source": [
    "### We also have huge disbalance in a labeled data too"
   ]
  },
  {
   "cell_type": "markdown",
   "id": "24c86afb-9444-44f6-a631-77729fb7ded2",
   "metadata": {},
   "source": [
    "### Let's look at lengths of texts"
   ]
  },
  {
   "cell_type": "code",
   "execution_count": 8,
   "id": "e1be2464-1af7-4d8c-ad7f-ebcb9592db84",
   "metadata": {},
   "outputs": [
    {
     "data": {
      "text/plain": [
       "count    6807.000000\n",
       "mean      733.441017\n",
       "std       319.244697\n",
       "min        69.000000\n",
       "25%       520.000000\n",
       "50%       693.000000\n",
       "75%       897.000000\n",
       "max      3298.000000\n",
       "Name: tokens, dtype: float64"
      ]
     },
     "execution_count": 8,
     "metadata": {},
     "output_type": "execute_result"
    }
   ],
   "source": [
    "text_lens = train_data[\"tokens\"].map(len)\n",
    "text_lens.describe()"
   ]
  },
  {
   "cell_type": "markdown",
   "id": "eaf39de9-a286-4823-af34-b3bfb1fddb72",
   "metadata": {},
   "source": [
    "### We have a huge texts that can be hard to process for some base models"
   ]
  },
  {
   "cell_type": "markdown",
   "id": "c64fab54-aeeb-4c1d-bb69-fea1bafc0ee4",
   "metadata": {},
   "source": []
  }
 ],
 "metadata": {
  "kernelspec": {
   "display_name": "Python 3 (ipykernel)",
   "language": "python",
   "name": "python3"
  },
  "language_info": {
   "codemirror_mode": {
    "name": "ipython",
    "version": 3
   },
   "file_extension": ".py",
   "mimetype": "text/x-python",
   "name": "python",
   "nbconvert_exporter": "python",
   "pygments_lexer": "ipython3",
   "version": "3.10.5"
  }
 },
 "nbformat": 4,
 "nbformat_minor": 5
}
